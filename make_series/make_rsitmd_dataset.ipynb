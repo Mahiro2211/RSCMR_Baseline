{
 "cells": [
  {
   "metadata": {
    "ExecuteTime": {
     "end_time": "2025-04-22T10:51:10.460503Z",
     "start_time": "2025-04-22T10:51:10.457920Z"
    }
   },
   "cell_type": "code",
   "source": [
    "import json\n",
    "import os\n",
    "import pathlib\n",
    "import sklearn\n",
    "import random\n",
    "\n",
    "from jupyterlab.semver import test_set"
   ],
   "id": "df89eb9e965a5161",
   "outputs": [],
   "execution_count": 107
  },
  {
   "metadata": {
    "ExecuteTime": {
     "end_time": "2025-04-22T10:51:10.610692Z",
     "start_time": "2025-04-22T10:51:10.509982Z"
    }
   },
   "cell_type": "code",
   "source": [
    "json_dir = '/home/dhm04/PycharmProjects/RSCR-baseline/dataset/RSITMD/dataset_RSITMD.json'\n",
    "with open(json_dir, 'r') as f:\n",
    "    data = json.load(f)"
   ],
   "id": "6458da29c4fb63f7",
   "outputs": [],
   "execution_count": 108
  },
  {
   "metadata": {
    "ExecuteTime": {
     "end_time": "2025-04-22T10:51:10.618257Z",
     "start_time": "2025-04-22T10:51:10.615779Z"
    }
   },
   "cell_type": "code",
   "source": [
    "data['images'][0].keys(), len(data['images'])\n",
    "\n",
    "random.shuffle(data['images'])"
   ],
   "id": "9b6338076a4947de",
   "outputs": [],
   "execution_count": 109
  },
  {
   "metadata": {
    "ExecuteTime": {
     "end_time": "2025-04-22T10:51:10.670305Z",
     "start_time": "2025-04-22T10:51:10.665192Z"
    }
   },
   "cell_type": "code",
   "source": [
    "# train num\n",
    "cnt_train = 0\n",
    "cnt_test = 0\n",
    "for item in data['images']:\n",
    "    if item['split'] == 'train':\n",
    "        cnt_train += 1\n",
    "    else:\n",
    "        cnt_test += 1\n",
    "\n",
    "# 数据集的分割参考 AMNFN这篇论文\n",
    "cnt_train, cnt_test, int((cnt_train) * 0.8) # 这里的3432和AMNFN的一致"
   ],
   "id": "aee66a74051cc501",
   "outputs": [
    {
     "data": {
      "text/plain": [
       "(4291, 452, 3432)"
      ]
     },
     "execution_count": 110,
     "metadata": {},
     "output_type": "execute_result"
    }
   ],
   "execution_count": 110
  },
  {
   "metadata": {
    "ExecuteTime": {
     "end_time": "2025-04-22T10:51:10.723070Z",
     "start_time": "2025-04-22T10:51:10.719471Z"
    }
   },
   "cell_type": "code",
   "source": [
    "print(f'image: {data[\"images\"][94][\"filename\"]}')\n",
    "print(f'image_id: {data[\"images\"][94][\"imgid\"]}')"
   ],
   "id": "403a9aae41584587",
   "outputs": [
    {
     "name": "stdout",
     "output_type": "stream",
     "text": [
      "image: airport_567.tif\n",
      "image_id: 124\n"
     ]
    }
   ],
   "execution_count": 111
  },
  {
   "metadata": {
    "ExecuteTime": {
     "end_time": "2025-04-22T10:51:10.775944Z",
     "start_time": "2025-04-22T10:51:10.770448Z"
    }
   },
   "cell_type": "code",
   "source": [
    "item0 = data['images'][0]\n",
    "print(f'sentence: {item0[\"sentences\"][0][\"raw\"]}, corrosponding label: {item0[\"labels\"][0]}')\n",
    "print(f'sentence: {item0[\"sentences\"][1][\"raw\"]}, corrosponding label: {item0[\"labels\"][1]}')\n",
    "print(f'sentence: {item0[\"sentences\"][2][\"raw\"]}, corrosponding label: {item0[\"labels\"][2]}')\n",
    "print(f'sentence: {item0[\"sentences\"][3][\"raw\"]}, corrosponding label: {item0[\"labels\"][3]}')\n",
    "print(f'sentence: {item0[\"sentences\"][4][\"raw\"]}, corrosponding label: {item0[\"labels\"][4]}')"
   ],
   "id": "89f5e7fb77f1c80f",
   "outputs": [
    {
     "name": "stdout",
     "output_type": "stream",
     "text": [
      "sentence: Four resorts next to the swimming pool, corrosponding label: swimming pools\n",
      "sentence: There are three swimming pools next to a resort, corrosponding label: - swimming\n",
      "sentence: A resort has three pools next to it, corrosponding label: - beach\n",
      "sentence: Some buildings with swimming pools and some green plants are near the beach., corrosponding label: green plants\n",
      "sentence: There are several buildings with swimming pools and some green plants near the beach., corrosponding label: a resort\n"
     ]
    }
   ],
   "execution_count": 112
  },
  {
   "metadata": {
    "ExecuteTime": {
     "end_time": "2025-04-22T10:51:10.832456Z",
     "start_time": "2025-04-22T10:51:10.824230Z"
    }
   },
   "cell_type": "code",
   "source": [
    "# 检查所有类型的标签\n",
    "all_cls = set()\n",
    "for item in data['images']:\n",
    "    all_cls.add(item['filename'].split('_')[0])\n",
    "len(all_cls)"
   ],
   "id": "6e3de7f19898574b",
   "outputs": [
    {
     "data": {
      "text/plain": [
       "33"
      ]
     },
     "execution_count": 113,
     "metadata": {},
     "output_type": "execute_result"
    }
   ],
   "execution_count": 113
  },
  {
   "metadata": {
    "ExecuteTime": {
     "end_time": "2025-04-22T10:51:10.913069Z",
     "start_time": "2025-04-22T10:51:10.877828Z"
    }
   },
   "cell_type": "code",
   "source": [
    "from tqdm import tqdm\n",
    "import numpy as np\n",
    "import pprint\n",
    "from sklearn.model_selection import train_test_split\n",
    "def get_word_to_idx_dict(data):\n",
    "    all_cls = set()\n",
    "    cls_list = list()\n",
    "\n",
    "    for item in data['images']:\n",
    "        all_cls.add(item['filename'].split('_')[0])\n",
    "        cls_list.append(item['filename'].split('_')[0])\n",
    "    word_to_idx = {}\n",
    "    for idx, cls in enumerate(sorted(all_cls)):\n",
    "        word_to_idx[cls] = idx\n",
    "    return word_to_idx\n",
    "\n",
    "def create_banlanced_dataset(data, stratified=False):\n",
    "    '''\n",
    "    原论文的数据集处理方式只是随机抽样，没有考虑到样本每个类数量的平衡性\n",
    "    这里我两种方法都添加了，也就是随机抽样和随机分层抽样（这种方式可以保证样本类别都是平衡的）可以避免数据的长尾分布(LongTail Distribution)\n",
    "    '''\n",
    "    train_percent = 0.8\n",
    "    train_num = cnt_train * train_percent\n",
    "    val_num = cnt_train * (1 - train_percent)\n",
    "\n",
    "    test_num = cnt_test\n",
    "\n",
    "\n",
    "    for item in data['images']:\n",
    "        if len(item['sentids']) == 5:\n",
    "            pass\n",
    "        else:\n",
    "            raise ValueError('有一个数据对应的文本不是5个')\n",
    "\n",
    "    train_captions = []\n",
    "    train_images = []\n",
    "    train_word_label = []\n",
    "    train_imgids = []\n",
    "\n",
    "    test_captions = []\n",
    "    test_images = []\n",
    "    test_word_label = []\n",
    "    test_imgids = []\n",
    "\n",
    "    train_obj = []\n",
    "    test_obj = []\n",
    "\n",
    "\n",
    "    if stratified:\n",
    "        pass\n",
    "    else:\n",
    "        for item in tqdm(data['images']):\n",
    "            if item['split'] == 'train':\n",
    "                for i in range(len(item['sentids'])): # 一张图片 五个文本\n",
    "                    train_images.append('train/' + item['filename'])\n",
    "                    train_captions.append(item['sentences'][i]['raw'])\n",
    "                    train_word_label.append(item['filename'].split('_')[0])\n",
    "                    train_imgids.append(item['imgid'])\n",
    "            else:\n",
    "                for i in range(len(item['sentids'])): # 一张图片 五个文本\n",
    "                    test_images.append('test/' + item['filename'])\n",
    "                    test_captions.append(item['sentences'][i]['raw'])\n",
    "                    test_word_label.append(item['filename'].split('_')[0])\n",
    "                    test_imgids.append(item['imgid'])\n",
    "\n",
    "        word_to_idx = get_word_to_idx_dict(data)\n",
    "        train_idx_label = [word_to_idx[i] for i in train_word_label]\n",
    "        test_idx_label = [word_to_idx[i] for i in test_word_label]\n",
    "\n",
    "        for index in range(len(train_images)):\n",
    "            train_obj.append(\n",
    "                {\n",
    "                    \"image\": train_images[index],\n",
    "                    \"caption\": train_captions[index],\n",
    "                    \"label_name\": train_word_label[index],\n",
    "                    \"image_id\": train_imgids[index],\n",
    "                    \"label\": train_idx_label[index]\n",
    "                }\n",
    "            )\n",
    "        for index in range(len(test_images)):\n",
    "            test_obj.append(\n",
    "                {\n",
    "                    \"image\": test_images[index],\n",
    "                    \"caption\": test_captions[index],\n",
    "                    \"label_name\": test_word_label[index],\n",
    "                    \"image_id\": test_imgids[index],\n",
    "                    \"label\": test_idx_label[index]\n",
    "                }\n",
    "            )\n",
    "\n",
    "        train_set, val_set = train_test_split(train_obj, train_size=train_percent, random_state=42)\n",
    "        test_set = test_obj\n",
    "    return train_set, val_set, test_set, word_to_idx\n",
    "\n",
    "train_set, val_set, test_set, word_to_idx = create_banlanced_dataset(data)"
   ],
   "id": "ecdb752b64b884e",
   "outputs": [
    {
     "name": "stderr",
     "output_type": "stream",
     "text": [
      "100%|██████████| 4743/4743 [00:00<00:00, 434689.91it/s]\n"
     ]
    }
   ],
   "execution_count": 114
  },
  {
   "metadata": {
    "ExecuteTime": {
     "end_time": "2025-04-22T10:51:10.938853Z",
     "start_time": "2025-04-22T10:51:10.935158Z"
    }
   },
   "cell_type": "code",
   "source": "len(train_set) // 5, len(val_set) // 5, len(test_set) // 5 # 可以看到 与之前的train_filename_verify",
   "id": "151edbd467129baa",
   "outputs": [
    {
     "data": {
      "text/plain": [
       "(3432, 858, 452)"
      ]
     },
     "execution_count": 115,
     "metadata": {},
     "output_type": "execute_result"
    }
   ],
   "execution_count": 115
  },
  {
   "metadata": {
    "ExecuteTime": {
     "end_time": "2025-04-22T10:51:10.996454Z",
     "start_time": "2025-04-22T10:51:10.986205Z"
    }
   },
   "cell_type": "code",
   "source": [
    "for item in train_set:\n",
    "    if word_to_idx[item['label_name']] != item['label']:\n",
    "        print('!!!')"
   ],
   "id": "34d65945e6f60124",
   "outputs": [],
   "execution_count": 116
  },
  {
   "metadata": {
    "ExecuteTime": {
     "end_time": "2025-04-22T10:51:19.101223Z",
     "start_time": "2025-04-22T10:51:19.016757Z"
    }
   },
   "cell_type": "code",
   "source": [
    "with open('/home/dhm04/PycharmProjects/RSCR-baseline/dataset/AMNFNFinetune/ours_train_rsitmd.json', 'w', encoding='utf-8') as f:\n",
    "    json.dump(train_set, f, ensure_ascii=False, indent=4)\n",
    "with open('/home/dhm04/PycharmProjects/RSCR-baseline/dataset/AMNFNFinetune/ours_val_rsitmd.json', 'w', encoding='utf-8') as f:\n",
    "    json.dump(val_set, f, ensure_ascii=False, indent=4)\n",
    "with open('/home/dhm04/PycharmProjects/RSCR-baseline/dataset/AMNFNFinetune/ours_test_rsitmd.json', 'w', encoding='utf-8') as f:\n",
    "    json.dump(test_set, f, ensure_ascii=False, indent=4)"
   ],
   "id": "bdd9e5820b5f34b8",
   "outputs": [],
   "execution_count": 118
  },
  {
   "metadata": {},
   "cell_type": "code",
   "outputs": [],
   "execution_count": null,
   "source": "",
   "id": "16f6fbb8ca3305ba"
  }
 ],
 "metadata": {
  "kernelspec": {
   "display_name": "py310Torch26",
   "language": "python",
   "name": "python310"
  },
  "language_info": {
   "codemirror_mode": {
    "name": "ipython",
    "version": 2
   },
   "file_extension": ".py",
   "mimetype": "text/x-python",
   "name": "python",
   "nbconvert_exporter": "python",
   "pygments_lexer": "ipython2",
   "version": "2.7.6"
  }
 },
 "nbformat": 4,
 "nbformat_minor": 5
}
