{
 "cells": [
  {
   "cell_type": "code",
   "id": "initial_id",
   "metadata": {
    "collapsed": true,
    "ExecuteTime": {
     "end_time": "2025-04-22T11:05:57.151145Z",
     "start_time": "2025-04-22T11:05:57.147727Z"
    }
   },
   "source": [
    "import json\n",
    "import os"
   ],
   "outputs": [],
   "execution_count": 3
  },
  {
   "metadata": {
    "ExecuteTime": {
     "end_time": "2025-04-22T11:24:22.221421Z",
     "start_time": "2025-04-22T11:24:22.218033Z"
    }
   },
   "cell_type": "code",
   "source": [
    "train_json = '/home/dhm04/PycharmProjects/RSCR-baseline/dataset/AMNFNFinetune/ours_train_rsitmd.json'\n",
    "val_json = '/home/dhm04/PycharmProjects/RSCR-baseline/dataset/AMNFNFinetune/ours_val_rsitmd.json'\n",
    "test_json = '/home/dhm04/PycharmProjects/RSCR-baseline/dataset/AMNFNFinetune/ours_test_rsitmd.json'\n",
    "\n",
    "image_dir = '/home/dhm04/PycharmProjects/RSCR-baseline/dataset/AMNFNFinetune/rsitmd/images'"
   ],
   "id": "4caa27ce17544cc0",
   "outputs": [],
   "execution_count": 15
  },
  {
   "metadata": {
    "ExecuteTime": {
     "end_time": "2025-04-22T11:24:24.262932Z",
     "start_time": "2025-04-22T11:24:24.234596Z"
    }
   },
   "cell_type": "code",
   "source": [
    "with open(train_json) as f:\n",
    "    train_data = json.load(f)\n",
    "with open(val_json) as f:\n",
    "    val_data = json.load(f)\n",
    "with open(test_json) as f:\n",
    "    test_data = json.load(f)"
   ],
   "id": "b29c728072a9127f",
   "outputs": [],
   "execution_count": 16
  },
  {
   "metadata": {
    "ExecuteTime": {
     "end_time": "2025-04-22T11:24:25.014585Z",
     "start_time": "2025-04-22T11:24:25.009834Z"
    }
   },
   "cell_type": "code",
   "source": "len(train_data) // 5, len(val_data) // 5, len(test_data)",
   "id": "bc336c1d404c502",
   "outputs": [
    {
     "data": {
      "text/plain": [
       "(3432, 858, 2260)"
      ]
     },
     "execution_count": 17,
     "metadata": {},
     "output_type": "execute_result"
    }
   ],
   "execution_count": 17
  },
  {
   "metadata": {
    "ExecuteTime": {
     "end_time": "2025-04-22T11:24:26.431887Z",
     "start_time": "2025-04-22T11:24:26.425863Z"
    }
   },
   "cell_type": "code",
   "source": [
    "from dataset.HarmaDataset import re_train_dataset\n",
    "from dataset.HarmaDataUtils import *\n",
    "from dataset.reaugment import RandomAugment\n",
    "from torchvision import transforms\n",
    "normalize = transforms.Normalize((0.48145466, 0.4578275, 0.40821073), (0.26862954, 0.26130258, 0.27577711))\n",
    "\n",
    "train_transform = transforms.Compose([\n",
    "    transforms.RandomResizedCrop(256, scale=(0.5, 1.0),\n",
    "                                 interpolation=transforms.InterpolationMode.BICUBIC),\n",
    "    transforms.RandomHorizontalFlip(),\n",
    "    RandomAugment(2, 7, isPIL=True, augs=['Identity', 'AutoContrast', 'Equalize', 'Brightness', 'Sharpness',\n",
    "                                          'ShearX', 'ShearY', 'TranslateX', 'TranslateY', 'Rotate']),\n",
    "    transforms.ToTensor(),\n",
    "    normalize,\n",
    "])\n",
    "\n",
    "test_transform = transforms.Compose([\n",
    "    transforms.Resize((256,256), interpolation=transforms.InterpolationMode.BICUBIC),\n",
    "    transforms.ToTensor(),\n",
    "    normalize,\n",
    "])"
   ],
   "id": "451c2334c13ede46",
   "outputs": [],
   "execution_count": 18
  },
  {
   "metadata": {
    "ExecuteTime": {
     "end_time": "2025-04-22T11:25:48.043270Z",
     "start_time": "2025-04-22T11:25:48.017840Z"
    }
   },
   "cell_type": "code",
   "source": [
    "train_set = re_train_dataset([train_json], image_root=image_dir, transform=train_transform)\n",
    "val_set = re_train_dataset([val_json], image_root=image_dir, transform=test_transform)\n",
    "test_set = re_train_dataset([test_json],image_root=image_dir, transform=test_transform)"
   ],
   "id": "7c7a86f9ba93a095",
   "outputs": [],
   "execution_count": 21
  },
  {
   "metadata": {
    "ExecuteTime": {
     "end_time": "2025-04-22T11:26:05.254865Z",
     "start_time": "2025-04-22T11:26:05.250572Z"
    }
   },
   "cell_type": "code",
   "source": "len(train_set) // 5, len(val_set) // 5, len(test_set)",
   "id": "d5c839103cdee5cc",
   "outputs": [
    {
     "data": {
      "text/plain": [
       "(3432, 858, 2260)"
      ]
     },
     "execution_count": 23,
     "metadata": {},
     "output_type": "execute_result"
    }
   ],
   "execution_count": 23
  },
  {
   "metadata": {
    "ExecuteTime": {
     "end_time": "2025-04-22T11:26:38.637536Z",
     "start_time": "2025-04-22T11:26:38.597780Z"
    }
   },
   "cell_type": "code",
   "source": "image, caption, img_id, label = train_set[0]",
   "id": "f0920f875d13fed7",
   "outputs": [],
   "execution_count": 24
  },
  {
   "metadata": {
    "ExecuteTime": {
     "end_time": "2025-04-22T11:26:48.525516Z",
     "start_time": "2025-04-22T11:26:48.520449Z"
    }
   },
   "cell_type": "code",
   "source": "image.shape, caption, img_id, label",
   "id": "ab33b56b08a94291",
   "outputs": [
    {
     "data": {
      "text/plain": [
       "(torch.Size([3, 256, 256]),\n",
       " 'it is an epic desert with yellow wrinkles',\n",
       " 0,\n",
       " tensor(10))"
      ]
     },
     "execution_count": 26,
     "metadata": {},
     "output_type": "execute_result"
    }
   ],
   "execution_count": 26
  },
  {
   "metadata": {},
   "cell_type": "code",
   "outputs": [],
   "execution_count": null,
   "source": "",
   "id": "746b80d13f43f3da"
  }
 ],
 "metadata": {
  "kernelspec": {
   "display_name": "Python 3",
   "language": "python",
   "name": "python3"
  },
  "language_info": {
   "codemirror_mode": {
    "name": "ipython",
    "version": 2
   },
   "file_extension": ".py",
   "mimetype": "text/x-python",
   "name": "python",
   "nbconvert_exporter": "python",
   "pygments_lexer": "ipython2",
   "version": "2.7.6"
  }
 },
 "nbformat": 4,
 "nbformat_minor": 5
}
