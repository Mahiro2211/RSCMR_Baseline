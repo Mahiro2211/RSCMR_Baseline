{
 "cells": [
  {
   "cell_type": "code",
   "id": "initial_id",
   "metadata": {
    "collapsed": true,
    "ExecuteTime": {
     "end_time": "2025-04-22T11:27:30.900071Z",
     "start_time": "2025-04-22T11:27:30.893336Z"
    }
   },
   "source": [
    "import json\n",
    "import os"
   ],
   "outputs": [],
   "execution_count": 1
  },
  {
   "metadata": {
    "ExecuteTime": {
     "end_time": "2025-04-22T11:27:30.971900Z",
     "start_time": "2025-04-22T11:27:30.938584Z"
    }
   },
   "cell_type": "code",
   "source": [
    "data_dir = '/home/dhm04/PycharmProjects/RSCR-baseline/dataset/HarmaFinetune/rsitmd_train.json'\n",
    "with open(data_dir, 'r') as f:\n",
    "    data = json.load(f)"
   ],
   "id": "14deb12601c62b38",
   "outputs": [],
   "execution_count": 2
  },
  {
   "metadata": {
    "ExecuteTime": {
     "end_time": "2025-04-22T11:27:31.020498Z",
     "start_time": "2025-04-22T11:27:31.018856Z"
    }
   },
   "cell_type": "code",
   "source": "print(data[0].keys())",
   "id": "35c63512583bb1e3",
   "outputs": [
    {
     "name": "stdout",
     "output_type": "stream",
     "text": [
      "dict_keys(['caption', 'image', 'image_id', 'label_name', 'label'])\n"
     ]
    }
   ],
   "execution_count": 3
  },
  {
   "metadata": {
    "ExecuteTime": {
     "end_time": "2025-04-22T11:27:31.131645Z",
     "start_time": "2025-04-22T11:27:31.127490Z"
    }
   },
   "cell_type": "code",
   "source": [
    "print(f'caption: {data[0][\"caption\"]}')\n",
    "print(f'label name: {data[0][\"label_name\"]}')\n",
    "print(f'label: {data[0][\"label\"]}')\n",
    "print(f'image: {data[0][\"image\"]}')\n",
    "print(f'image_id: {data[0][\"image_id\"]}')"
   ],
   "id": "914f58234e489ee5",
   "outputs": [
    {
     "name": "stdout",
     "output_type": "stream",
     "text": [
      "caption: The river banks decorated with trees, grass and houses are connected by bridges.\n",
      "label name: bridge\n",
      "label: 0\n",
      "image: train/bridge_942.tif\n",
      "image_id: 539\n"
     ]
    }
   ],
   "execution_count": 4
  },
  {
   "metadata": {
    "ExecuteTime": {
     "end_time": "2025-04-22T11:27:31.246977Z",
     "start_time": "2025-04-22T11:27:31.240637Z"
    }
   },
   "cell_type": "code",
   "source": [
    "all_cls = set()\n",
    "for item in data:\n",
    "    all_cls.add(item['label_name'])\n",
    "print(sorted(all_cls))"
   ],
   "id": "3862f5eb30280ed8",
   "outputs": [
    {
     "name": "stdout",
     "output_type": "stream",
     "text": [
      "['airport', 'bareland', 'baseballfield', 'beach', 'boat', 'bridge', 'center', 'church', 'commercial', 'denseresidential', 'desert', 'farmland', 'forest', 'industrial', 'intersection', 'meadow', 'mediumresidential', 'mountain', 'park', 'parking', 'plane', 'playground', 'pond', 'port', 'railwaystation', 'resort', 'river', 'school', 'sparseresidential', 'square', 'stadium', 'storagetanks', 'viaduct']\n"
     ]
    }
   ],
   "execution_count": 5
  },
  {
   "metadata": {
    "ExecuteTime": {
     "end_time": "2025-04-22T11:27:39.306762Z",
     "start_time": "2025-04-22T11:27:39.301922Z"
    }
   },
   "cell_type": "code",
   "source": "len(all_cls)",
   "id": "a915e54ad21f8824",
   "outputs": [
    {
     "data": {
      "text/plain": [
       "33"
      ]
     },
     "execution_count": 7,
     "metadata": {},
     "output_type": "execute_result"
    }
   ],
   "execution_count": 7
  },
  {
   "metadata": {
    "ExecuteTime": {
     "end_time": "2025-04-22T11:28:21.612120Z",
     "start_time": "2025-04-22T11:28:21.608740Z"
    }
   },
   "cell_type": "code",
   "source": "list(sorted(all_cls))[10]",
   "id": "2bb1884fcae48bae",
   "outputs": [
    {
     "data": {
      "text/plain": [
       "'desert'"
      ]
     },
     "execution_count": 12,
     "metadata": {},
     "output_type": "execute_result"
    }
   ],
   "execution_count": 12
  }
 ],
 "metadata": {
  "kernelspec": {
   "display_name": "Python 3",
   "language": "python",
   "name": "python3"
  },
  "language_info": {
   "codemirror_mode": {
    "name": "ipython",
    "version": 2
   },
   "file_extension": ".py",
   "mimetype": "text/x-python",
   "name": "python",
   "nbconvert_exporter": "python",
   "pygments_lexer": "ipython2",
   "version": "2.7.6"
  }
 },
 "nbformat": 4,
 "nbformat_minor": 5
}
